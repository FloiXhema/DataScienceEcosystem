{
 "cells": [
  {
   "cell_type": "markdown",
   "id": "b7f1b5b9",
   "metadata": {},
   "source": [
    "# Data Science Tools and Ecosystem"
   ]
  },
  {
   "cell_type": "markdown",
   "id": "df6022ad",
   "metadata": {},
   "source": [
    "In this notebook, Data Science Tools and Ecosystem are summarized."
   ]
  },
  {
   "cell_type": "markdown",
   "id": "4749353b",
   "metadata": {},
   "source": [
    "Some of the popular languages that Data Scientists use are:\n",
    " 1. Python\n",
    " 2. SQL\n",
    " 3. R\n",
    " 4. C++\n",
    " 5. Java etc"
   ]
  },
  {
   "cell_type": "markdown",
   "id": "ac1c997b",
   "metadata": {},
   "source": [
    "Some of the commonly used libraries used by Data Scientists include:\n",
    "1. NumPy\n",
    "2. Pandas\n",
    "3. TensorFlow\n",
    "4. PyTorch\n",
    "5. Matlotlib\n",
    "6. SciPy\n",
    "7. Scrapy"
   ]
  },
  {
   "cell_type": "markdown",
   "id": "850b1f6c",
   "metadata": {},
   "source": [
    "|Data Science Tools|\n",
    "|----|\n",
    "|Jupyter Notebook|\n",
    "|RStudio|\n",
    "|SAS|"
   ]
  },
  {
   "cell_type": "markdown",
   "id": "e0d9afaf",
   "metadata": {},
   "source": [
    "### Below are a few examples of evaluating arithmetic expressions in Python:\n",
    "    "
   ]
  },
  {
   "cell_type": "code",
   "execution_count": 1,
   "id": "9dbdd53f",
   "metadata": {},
   "outputs": [
    {
     "data": {
      "text/plain": [
       "17"
      ]
     },
     "execution_count": 1,
     "metadata": {},
     "output_type": "execute_result"
    }
   ],
   "source": [
    "#This a simple arithmetic expression to mutiply then add integers\n",
    "(3*4)+5"
   ]
  },
  {
   "cell_type": "code",
   "execution_count": 2,
   "id": "e6db7922",
   "metadata": {},
   "outputs": [
    {
     "data": {
      "text/plain": [
       "3.3333333333333335"
      ]
     },
     "execution_count": 2,
     "metadata": {},
     "output_type": "execute_result"
    }
   ],
   "source": [
    "#This will convert 200 minutes to hours by diving by 60\n",
    "200/60"
   ]
  },
  {
   "cell_type": "markdown",
   "id": "7c5b5fc0",
   "metadata": {},
   "source": [
    "__Objectives__\n",
    "* To list popular languages that Data Scientist use.\n",
    "* To list common use libraries in Data Science.\n",
    "* How to comment in a cell.\n",
    "* How to make a table , unordered list."
   ]
  },
  {
   "cell_type": "markdown",
   "id": "b7e9480d",
   "metadata": {},
   "source": [
    "## Author\n",
    "Floi Xhema"
   ]
  }
 ],
 "metadata": {
  "kernelspec": {
   "display_name": "Python 3 (ipykernel)",
   "language": "python",
   "name": "python3"
  },
  "language_info": {
   "codemirror_mode": {
    "name": "ipython",
    "version": 3
   },
   "file_extension": ".py",
   "mimetype": "text/x-python",
   "name": "python",
   "nbconvert_exporter": "python",
   "pygments_lexer": "ipython3",
   "version": "3.11.5"
  }
 },
 "nbformat": 4,
 "nbformat_minor": 5
}
